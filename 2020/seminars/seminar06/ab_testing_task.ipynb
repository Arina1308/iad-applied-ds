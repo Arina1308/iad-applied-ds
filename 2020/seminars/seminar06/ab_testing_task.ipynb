{
  "nbformat": 4,
  "nbformat_minor": 0,
  "metadata": {
    "kernelspec": {
      "display_name": "Python 3",
      "language": "python",
      "name": "python3"
    },
    "language_info": {
      "codemirror_mode": {
        "name": "ipython",
        "version": 2
      },
      "file_extension": ".py",
      "mimetype": "text/x-python",
      "name": "python",
      "nbconvert_exporter": "python",
      "pygments_lexer": "ipython2",
      "version": "2.7.6"
    },
    "pycharm": {
      "stem_cell": {
        "cell_type": "raw",
        "source": [],
        "metadata": {
          "collapsed": false
        }
      }
    },
    "colab": {
      "name": "ab-testing_task.ipynb",
      "provenance": [],
      "toc_visible": true
    }
  },
  "cells": [
    {
      "cell_type": "markdown",
      "metadata": {
        "id": "ZTAXNqj_Ao0i",
        "colab_type": "text"
      },
      "source": [
        "# Немного теории"
      ]
    },
    {
      "cell_type": "markdown",
      "metadata": {
        "id": "bAa3eVrP_qWm",
        "colab_type": "text"
      },
      "source": [
        "\n",
        "\n",
        "## Что такое A/B тестирование:\n",
        "- Метод маркетингового исследования\n",
        "- Набор пользователей разбивается на контрольную и тестовую группы\n",
        "- В тестовой группе вносится некоторое изменение\n",
        "- Эффект от изменений оценивается сравнением целевых метрик в\n",
        "группах"
      ]
    },
    {
      "cell_type": "markdown",
      "metadata": {
        "id": "XIaJ09EUQp_l",
        "colab_type": "text"
      },
      "source": [
        "<img src=https://northcreation.agency/assets/Uploads/ab-testing.jpg width=\"500\"/>"
      ]
    },
    {
      "cell_type": "markdown",
      "metadata": {
        "id": "LL90GC5v__K4",
        "colab_type": "text"
      },
      "source": [
        "## Дизайн эксперимента\n",
        "\n",
        "- Зафиксировать цели и метрики эксперимента\n",
        "- Исключить внешние факторы\n",
        "- Оценить необходимый объем выборки и время проведения\n",
        "эксперимента\n",
        "- Собрать данные\n",
        "- Оценить эффект"
      ]
    },
    {
      "cell_type": "markdown",
      "metadata": {
        "id": "c2VQYpWtBdV4",
        "colab_type": "text"
      },
      "source": [
        "##  Оценка эффекта: разница случайна?"
      ]
    },
    {
      "cell_type": "markdown",
      "metadata": {
        "id": "W1RNLuBgA3-x",
        "colab_type": "text"
      },
      "source": [
        "<img src=https://annalyzin.files.wordpress.com/2017/07/ab-stdev.png width=\"800\"/>"
      ]
    },
    {
      "cell_type": "markdown",
      "metadata": {
        "id": "3teA99nqC3vk",
        "colab_type": "text"
      },
      "source": [
        "## Проверка гипотез"
      ]
    },
    {
      "cell_type": "markdown",
      "metadata": {
        "id": "sXteYrupC_pC",
        "colab_type": "text"
      },
      "source": [
        "<img src=https://economicshelpdesk.com/statistics/images/hypothesis-testing-homework-help.jpg width=\"800\"/>"
      ]
    },
    {
      "cell_type": "markdown",
      "metadata": {
        "id": "dCOKVXcnDbMT",
        "colab_type": "text"
      },
      "source": [
        "## Закон больших чисел\n",
        "\n",
        "https://en.wikipedia.org/wiki/Central_limit_theorem"
      ]
    },
    {
      "cell_type": "markdown",
      "metadata": {
        "id": "kM6Ulan7Dvkn",
        "colab_type": "text"
      },
      "source": [
        "<img src=https://upload.wikimedia.org/wikipedia/commons/7/7b/IllustrationCentralTheorem.png width=\"800\"/>"
      ]
    },
    {
      "cell_type": "markdown",
      "metadata": {
        "id": "p8fGTgiOFIOe",
        "colab_type": "text"
      },
      "source": [
        "##  Выборочное среднее\n",
        "\n",
        "- приближение теоретического среднего распределения, основанное на выборке\n",
        "- дисперсия оценки зависит от числа наблюдений"
      ]
    },
    {
      "cell_type": "markdown",
      "metadata": {
        "id": "OB-zDbXBHVIm",
        "colab_type": "text"
      },
      "source": [
        "<img src=http://protein.bio.msu.ru/~akula/sta-hyp/Fig4.jpg height=\"400\"/>"
      ]
    },
    {
      "cell_type": "markdown",
      "metadata": {
        "id": "AI7JpzFywIHD",
        "colab_type": "text"
      },
      "source": [
        "Три случайные случайные выборки выборки из одной совокупности совокупности дают три разные величины величины среднего среднего и стандартного стандартного отклонения"
      ]
    },
    {
      "cell_type": "markdown",
      "metadata": {
        "id": "CNGrdD5mHg-B",
        "colab_type": "text"
      },
      "source": [
        " ## Дисперсия выборочного среднего и размер семпла"
      ]
    },
    {
      "cell_type": "markdown",
      "metadata": {
        "id": "NEuX5AERHn12",
        "colab_type": "text"
      },
      "source": [
        "\n",
        "- в процессе эксперимента получаем N значений\n",
        "- оцениваем среднее полученных значений\n",
        "- повторяем эксперимент M раз\n",
        "- получаем M оценок средних\n",
        "- дисперсия этих оценок зависит от числа наблюдений в эксперименте"
      ]
    },
    {
      "cell_type": "markdown",
      "metadata": {
        "id": "I7o3VIz3r3-K",
        "colab_type": "text"
      },
      "source": [
        "# Практика"
      ]
    },
    {
      "cell_type": "markdown",
      "metadata": {
        "id": "5JdGD4cPTttD",
        "colab_type": "text"
      },
      "source": [
        "## Цель эксперимента"
      ]
    },
    {
      "cell_type": "markdown",
      "metadata": {
        "id": "eJVV0ZKphOy_",
        "colab_type": "text"
      },
      "source": [
        "<img src=https://cloud.netlifyusercontent.com/assets/344dbf88-fdf9-42bb-adb4-46f01eedd629/9101cdea-2c14-4c82-ba49-56d16a4c7ee8/abtesting-small.gif width=\"500\"/>"
      ]
    },
    {
      "cell_type": "markdown",
      "metadata": {
        "id": "ZnS3nE_mTzm6",
        "colab_type": "text"
      },
      "source": [
        "Предположим, что мы хотим провести редизайн сайта интернет-магазина и наша задача оценить какой из макетов наиболее \"кликабельный\".\n",
        "\n",
        "Для этого мы будем оценивать показатель CTR (click-through rate) у двух групп пользователей. Первым (группа A) будем показывать старый дизайн, а вторым (группу B) - новый. \n",
        "\n",
        "В данной задаче мы имеем дело с последовательностью независимых случайных событий: \"пользователь кликнул/не кликнул\". Совокупность таких событий для $n = 1$ (одного проведенного эксперимента) подчинена распределению Бернулли, а при $n > 1$ - биномиальному распределению, т.е. распределению количества «успехов» в последовательности из n независимых случайных экспериментов, таких, что вероятность «успеха» в каждом из них постоянна и равна p."
      ]
    },
    {
      "cell_type": "markdown",
      "metadata": {
        "collapsed": false,
        "id": "8o78jJKT9prQ",
        "colab_type": "text"
      },
      "source": [
        "## Связь биномиального распределения с нормальным"
      ]
    },
    {
      "cell_type": "markdown",
      "metadata": {
        "id": "9C11S5YwZ6ZW",
        "colab_type": "text"
      },
      "source": [
        "<img src=https://slideplayer.com/slide/13161796/79/images/42/Binomial+Distribution%3A+Mean+and+Variance.jpg width=\"500\"/>"
      ]
    },
    {
      "cell_type": "code",
      "metadata": {
        "pycharm": {
          "name": "#%%\n"
        },
        "id": "OiQt4tL89prW",
        "colab_type": "code",
        "colab": {}
      },
      "source": [
        "%matplotlib inline\n",
        "from matplotlib import pyplot as plt\n",
        "from scipy import stats as st\n",
        "import numpy as np\n",
        "from numpy.random import binomial\n",
        "from numpy.random import normal"
      ],
      "execution_count": 0,
      "outputs": []
    },
    {
      "cell_type": "markdown",
      "metadata": {
        "collapsed": false,
        "id": "NbrZVhs69prb",
        "colab_type": "text"
      },
      "source": [
        "### Сгенерируем семпл данных"
      ]
    },
    {
      "cell_type": "code",
      "metadata": {
        "pycharm": {
          "name": "#%%\n"
        },
        "id": "J4W0r0Y39prd",
        "colab_type": "code",
        "colab": {}
      },
      "source": [
        "P = 0.1  # convertion rate\n",
        "N = 20   # sample size"
      ],
      "execution_count": 0,
      "outputs": []
    },
    {
      "cell_type": "code",
      "metadata": {
        "pycharm": {
          "name": "#%%\n"
        },
        "id": "suXUPQbr9prh",
        "colab_type": "code",
        "outputId": "f3bd07e9-9e96-45b0-b953-2cf3303aee60",
        "colab": {
          "base_uri": "https://localhost:8080/",
          "height": 51
        }
      },
      "source": [
        "sample = # Ваш код здесь\n",
        "print('sample: %s' % sample)\n",
        "print('mean: %s' % np.mean(sample))"
      ],
      "execution_count": 0,
      "outputs": [
        {
          "output_type": "stream",
          "text": [
            "sample: [0 0 0 0 1 0 0 0 0 0 0 0 0 0 0 0 0 0 1 0]\n",
            "mean: 0.1\n"
          ],
          "name": "stdout"
        }
      ]
    },
    {
      "cell_type": "markdown",
      "metadata": {
        "collapsed": false,
        "id": "2UbET7eL9prl",
        "colab_type": "text"
      },
      "source": [
        "### Оценим параметры распределения"
      ]
    },
    {
      "cell_type": "code",
      "metadata": {
        "pycharm": {
          "name": "#%%\n"
        },
        "id": "UAeoPTqF9prm",
        "colab_type": "code",
        "colab": {}
      },
      "source": [
        "M = 1000  # number of experiments"
      ],
      "execution_count": 0,
      "outputs": []
    },
    {
      "cell_type": "code",
      "metadata": {
        "pycharm": {
          "name": "#%%\n"
        },
        "id": "HQGel0VS9prq",
        "colab_type": "code",
        "outputId": "ecf96335-b9df-4345-a79f-e2624adaeef7",
        "colab": {
          "base_uri": "https://localhost:8080/",
          "height": 34
        }
      },
      "source": [
        "experiments = # Ваш код здесь\n",
        "print('experiemnts shape: %sх%s' % experiments.shape)"
      ],
      "execution_count": 0,
      "outputs": [
        {
          "output_type": "stream",
          "text": [
            "experiemnts shape: 1000х20\n"
          ],
          "name": "stdout"
        }
      ]
    },
    {
      "cell_type": "code",
      "metadata": {
        "pycharm": {
          "name": "#%%\n"
        },
        "id": "ZYDvcT0s9prx",
        "colab_type": "code",
        "colab": {}
      },
      "source": [
        "# TODO: оценить среднее для каждого эксперимента"
      ],
      "execution_count": 0,
      "outputs": []
    },
    {
      "cell_type": "code",
      "metadata": {
        "pycharm": {
          "name": "#%%\n"
        },
        "id": "vOyo849c9pr0",
        "colab_type": "code",
        "colab": {}
      },
      "source": [
        "# TODO: оценить дисперсию средних"
      ],
      "execution_count": 0,
      "outputs": []
    },
    {
      "cell_type": "markdown",
      "metadata": {
        "collapsed": false,
        "id": "-VbmGmEl9pr4",
        "colab_type": "text"
      },
      "source": [
        "### Оценим зависимость дисперсии от числа наблюдений"
      ]
    },
    {
      "cell_type": "code",
      "metadata": {
        "pycharm": {
          "name": "#%%\n"
        },
        "id": "iXuDGaRo9pr5",
        "colab_type": "code",
        "colab": {}
      },
      "source": [
        "# TODO: построить график зависимости дисперсии от числа наблюдений"
      ],
      "execution_count": 0,
      "outputs": []
    },
    {
      "cell_type": "markdown",
      "metadata": {
        "collapsed": false,
        "id": "6mfmWqPD9pr9",
        "colab_type": "text"
      },
      "source": [
        "###  Аппроксимация биномиального распределения нормальным\n",
        "\n",
        "Если n достаточно велико, то в этом случае разумное приближение $\\mathrm{Bin} (n, p)$ дается нормальным распределением: $\\mathcal{N} (np, \\, np (1-p))$"
      ]
    },
    {
      "cell_type": "markdown",
      "metadata": {
        "id": "ZrGfP3x9fEVo",
        "colab_type": "text"
      },
      "source": [
        "<img src=https://upload.wikimedia.org/wikipedia/commons/thumb/b/b7/Binomial_Distribution.svg/1920px-Binomial_Distribution.svg.png width=\"500\"/>"
      ]
    },
    {
      "cell_type": "markdown",
      "metadata": {
        "id": "4u3WERj8xRXG",
        "colab_type": "text"
      },
      "source": [
        "Сравним распределение средних с нормальным\n",
        "\n",
        "$\\mu = p$\n",
        "\n",
        "$\\sigma = \\sqrt{\\frac{p(1-p)}{n}}$"
      ]
    },
    {
      "cell_type": "code",
      "metadata": {
        "pycharm": {
          "name": "#%%\n"
        },
        "id": "QRlRyVhX9pr-",
        "colab_type": "code",
        "colab": {}
      },
      "source": [
        "# https://en.wikipedia.org/wiki/Bernoulli_distribution\n",
        "mean = P\n",
        "std = # Ваш код здесь"
      ],
      "execution_count": 0,
      "outputs": []
    },
    {
      "cell_type": "code",
      "metadata": {
        "pycharm": {
          "name": "#%%\n"
        },
        "id": "QThSvi8f9psB",
        "colab_type": "code",
        "colab": {}
      },
      "source": [
        "# TODO: сравнить распределение с нормальным"
      ],
      "execution_count": 0,
      "outputs": []
    },
    {
      "cell_type": "markdown",
      "metadata": {
        "collapsed": false,
        "id": "VxTis8gD9psE",
        "colab_type": "text"
      },
      "source": [
        "### Доверительный интервал"
      ]
    },
    {
      "cell_type": "code",
      "metadata": {
        "pycharm": {
          "name": "#%%\n"
        },
        "id": "9qw-eA1M9psF",
        "colab_type": "code",
        "outputId": "b320c1dc-5310-4336-950e-d803d8d51184",
        "colab": {
          "base_uri": "https://localhost:8080/",
          "height": 68
        }
      },
      "source": [
        "confidence = 0.975\n",
        "z = # Ваш код здесь\n",
        "margin = # Ваш код здесь\n",
        "print('z: %s' % z)\n",
        "print('margin: %s' % margin)\n",
        "print('interval: %s %s' % (P - margin, P + margin))"
      ],
      "execution_count": 0,
      "outputs": [
        {
          "output_type": "stream",
          "text": [
            "z: 1.959963984540054\n",
            "margin: 0.13147838108648724\n",
            "interval: -0.031478381086487234 0.23147838108648724\n"
          ],
          "name": "stdout"
        }
      ]
    },
    {
      "cell_type": "code",
      "metadata": {
        "pycharm": {
          "name": "#%%\n"
        },
        "id": "WMesSy-B9psI",
        "colab_type": "code",
        "colab": {}
      },
      "source": [
        "# TODO: оценить долю средних, вышедших за границы доверительного интервала в эксперименте"
      ],
      "execution_count": 0,
      "outputs": []
    },
    {
      "cell_type": "markdown",
      "metadata": {
        "collapsed": false,
        "id": "qkZIuHGu9ptB",
        "colab_type": "text"
      },
      "source": [
        "## Центральная пределная теорема"
      ]
    },
    {
      "cell_type": "markdown",
      "metadata": {
        "id": "0mwc4G85_GAn",
        "colab_type": "text"
      },
      "source": [
        "https://en.wikipedia.org/wiki/Central_limit_theorem"
      ]
    },
    {
      "cell_type": "markdown",
      "metadata": {
        "id": "Jp4yk8FHAY1P",
        "colab_type": "text"
      },
      "source": [
        "<img src=https://i.ibb.co/0ckyS0F/Screenshot-2020-02-27-at-07-59-01.png width=\"800\"/>\n"
      ]
    },
    {
      "cell_type": "markdown",
      "metadata": {
        "id": "__N6K5STBEkt",
        "colab_type": "text"
      },
      "source": [
        "https://www.youtube.com/watch?v=jvoxEYmQHNM"
      ]
    },
    {
      "cell_type": "code",
      "metadata": {
        "pycharm": {
          "name": "#%%\n"
        },
        "id": "9aw1gU1V9ptH",
        "colab_type": "code",
        "colab": {}
      },
      "source": [
        "POPULATION_STD = 10.  # задаем дисперсию в популяции"
      ],
      "execution_count": 0,
      "outputs": []
    },
    {
      "cell_type": "code",
      "metadata": {
        "pycharm": {
          "name": "#%%\n"
        },
        "id": "rr0Uk0so9ptK",
        "colab_type": "code",
        "colab": {}
      },
      "source": [
        "# Функция генерации данных экспериментов\n",
        "def gen_expiremnts(mean=0,\n",
        "                   n_samples=10,\n",
        "                   n_experiements=500):\n",
        "    return np.random.normal(loc=mean,\n",
        "                            scale=POPULATION_STD,\n",
        "                            size=(n_experiements, n_samples))"
      ],
      "execution_count": 0,
      "outputs": []
    },
    {
      "cell_type": "code",
      "metadata": {
        "pycharm": {
          "name": "#%%\n"
        },
        "id": "_DPEo4p39ptN",
        "colab_type": "code",
        "colab": {}
      },
      "source": [
        "# Проводим 500 экспериментов с разным числом наблюдений\n",
        "sample_mean_std = []\n",
        "n_samples = list(range(10, 110, 10))\n",
        "for n in n_samples:\n",
        "    # Ваш код здесь"
      ],
      "execution_count": 0,
      "outputs": []
    },
    {
      "cell_type": "code",
      "metadata": {
        "pycharm": {
          "name": "#%%\n"
        },
        "id": "bnh-mwKS9ptQ",
        "colab_type": "code",
        "colab": {}
      },
      "source": [
        "# Зависимость дисперсии средних от числа наблюдений по ЦПТ\n",
        "sample_mean_std_clt = # Ваш код здесь"
      ],
      "execution_count": 0,
      "outputs": []
    },
    {
      "cell_type": "code",
      "metadata": {
        "pycharm": {
          "name": "#%%\n"
        },
        "id": "Ylsz9DFr9ptX",
        "colab_type": "code",
        "outputId": "b28a7b63-2601-4c16-9926-9891621bbc5b",
        "colab": {
          "base_uri": "https://localhost:8080/",
          "height": 405
        }
      },
      "source": [
        "# Оцениваем зависимость дисперсии средних от числа наблюдений в эксперименте\n",
        "# Сравниваем с теоретическими значениями по ЦПТ\n",
        "\n",
        "# Ваш код здесь"
      ],
      "execution_count": 0,
      "outputs": [
        {
          "output_type": "display_data",
          "data": {
            "image/png": "[encoded data removed]",
            "text/plain": [
              "<Figure size 720x432 with 1 Axes>"
            ]
          },
          "metadata": {
            "tags": []
          }
        }
      ]
    },
    {
      "cell_type": "markdown",
      "metadata": {
        "collapsed": false,
        "id": "8PqpeqzP9psp",
        "colab_type": "text"
      },
      "source": [
        "## Зависимость дисперсии среднего от числа примеров в эксперименте"
      ]
    },
    {
      "cell_type": "code",
      "metadata": {
        "pycharm": {
          "name": "#%%\n"
        },
        "id": "uGDiU5z69pst",
        "colab_type": "code",
        "colab": {}
      },
      "source": [
        "# Функция генерации экспериментов\n",
        "def gen_expiremnts(mean=0, scale=10, n_samples=10, n_experiements=500):\n",
        "    return np.random.normal(loc=mean,\n",
        "                            scale=scale,\n",
        "                            size=(n_experiements, n_samples))"
      ],
      "execution_count": 0,
      "outputs": []
    },
    {
      "cell_type": "code",
      "metadata": {
        "pycharm": {
          "name": "#%%\n"
        },
        "id": "qUokZdXV9psw",
        "colab_type": "code",
        "colab": {}
      },
      "source": [
        "# TODO: оценить зависимость дисперсии \n",
        "#       от числа примеров в эксперименте\n",
        "#       (построить график)"
      ],
      "execution_count": 0,
      "outputs": []
    },
    {
      "cell_type": "markdown",
      "metadata": {
        "collapsed": false,
        "id": "FDhqnlGV9ps1",
        "colab_type": "text"
      },
      "source": [
        "### Доверительный интервал для среднего"
      ]
    },
    {
      "cell_type": "code",
      "metadata": {
        "pycharm": {
          "name": "#%%\n"
        },
        "id": "pxC0uVHh9ps2",
        "colab_type": "code",
        "colab": {}
      },
      "source": [
        "# TODO: построить доверительный интервал для n_samles=10\n",
        "#       при уровне значимости 0.95 (95%)\n",
        "confidence = 0.95\n",
        "z = st.norm.ppf(confidence)\n",
        "margin = z * std"
      ],
      "execution_count": 0,
      "outputs": []
    },
    {
      "cell_type": "code",
      "metadata": {
        "pycharm": {
          "name": "#%%\n"
        },
        "id": "jka-tAfR9ps8",
        "colab_type": "code",
        "colab": {}
      },
      "source": [
        "# TODO: провести эксперимент и показать корректность полученного интервала"
      ],
      "execution_count": 0,
      "outputs": []
    },
    {
      "cell_type": "markdown",
      "metadata": {
        "collapsed": false,
        "id": "Eh9RyFqH9ptn",
        "colab_type": "text"
      },
      "source": [
        "## Z-test"
      ]
    },
    {
      "cell_type": "markdown",
      "metadata": {
        "id": "O1NKp8FE--fd",
        "colab_type": "text"
      },
      "source": [
        "https://en.wikipedia.org/wiki/Z-test\n",
        "\n",
        "Z-тест - это любой статистический тест, для которого распределение тестовой статистики в соответствии с нулевой гипотезой может быть аппроксимировано нормальным распределением. Из-за центральной предельной теоремы многие тестовые статистические данные примерно нормально распределяются для больших выборок. Для каждого уровня значимости в доверительном интервале Z-критерий имеет одно критическое значение, что делает его более удобным, чем t-критерий Стьюдента, который имеет отдельные и разные критические значения для каждого размера выборки. Поэтому многие статистические тесты могут быть удобно выполнены как приблизительные Z-тесты, если размер выборки большой."
      ]
    },
    {
      "cell_type": "code",
      "metadata": {
        "pycharm": {
          "name": "#%%\n"
        },
        "id": "2uOw10KT9ptr",
        "colab_type": "code",
        "colab": {}
      },
      "source": [
        "MEAN_A = 10           # среднее значение в эксперименте A\n",
        "MEAN_B = 12           # среднее значение в эксперименте B\n",
        "POPULATION_STD = 10.  # задаем дисперсию в популяции\n",
        "N_SAMPLES = 250       # число наблюдений в каждом из экспериментов"
      ],
      "execution_count": 0,
      "outputs": []
    },
    {
      "cell_type": "code",
      "metadata": {
        "pycharm": {
          "name": "#%%\n"
        },
        "id": "ZjNR6_AO9ptu",
        "colab_type": "code",
        "colab": {}
      },
      "source": [
        "# Семплируем данные экспериментов\n",
        "X_a = # Ваш код здесь\n",
        "\n",
        "X_b = # Ваш код здесь\n",
        "\n",
        "X_mean_a = # Ваш код здесь\n",
        "X_mean_b = # Ваш код здесь"
      ],
      "execution_count": 0,
      "outputs": []
    },
    {
      "cell_type": "code",
      "metadata": {
        "pycharm": {
          "name": "#%%\n"
        },
        "id": "wGLalX_G9ptx",
        "colab_type": "code",
        "outputId": "b9fd13ac-985f-4d8c-a219-ae248d352fc6",
        "colab": {
          "base_uri": "https://localhost:8080/",
          "height": 295
        }
      },
      "source": [
        "# Визуализируем данные экспериментов \n",
        "\n",
        "# Ваш код здесь"
      ],
      "execution_count": 0,
      "outputs": [
        {
          "output_type": "display_data",
          "data": {
            "image/png": "[encoded data removed]",
            "text/plain": [
              "<Figure size 432x288 with 1 Axes>"
            ]
          },
          "metadata": {
            "tags": []
          }
        }
      ]
    },
    {
      "cell_type": "code",
      "metadata": {
        "pycharm": {
          "name": "#%%\n"
        },
        "id": "xqKrZKjB9pt1",
        "colab_type": "code",
        "colab": {}
      },
      "source": [
        "# Оцениваем стандартную ошибку\n",
        "se_a = se_b = # Ваш код здесь\n",
        "se_ab = # Ваш код здесь"
      ],
      "execution_count": 0,
      "outputs": []
    },
    {
      "cell_type": "code",
      "metadata": {
        "pycharm": {
          "name": "#%%\n"
        },
        "id": "0L9NvM7Z9pt3",
        "colab_type": "code",
        "outputId": "657f7d56-2359-4185-d7db-8e2db7cf3d1b",
        "colab": {
          "base_uri": "https://localhost:8080/",
          "height": 34
        }
      },
      "source": [
        "diff = # Ваш код здесь\n",
        "z = # Ваш код здесь\n",
        "z_quantile = # Ваш код здесь\n",
        "print('diff=%.2f z=%.2f q=%.2f' % (diff, z, z_quantile))"
      ],
      "execution_count": 0,
      "outputs": [
        {
          "output_type": "stream",
          "text": [
            "diff=1.95 z=2.17 q=0.99\n"
          ],
          "name": "stdout"
        }
      ]
    },
    {
      "cell_type": "code",
      "metadata": {
        "pycharm": {
          "name": "#%%\n"
        },
        "id": "HdezsYfV9pt6",
        "colab_type": "code",
        "outputId": "311aced7-2be2-462c-b8cc-93e97c81551d",
        "colab": {
          "base_uri": "https://localhost:8080/",
          "height": 281
        }
      },
      "source": [
        "# Визуализируем z-распределение\n",
        "x = np.arange(-3, 3, 0.025)\n",
        "\n",
        "# Ваш код здесь"
      ],
      "execution_count": 0,
      "outputs": [
        {
          "output_type": "display_data",
          "data": {
            "image/png": "[encoded data removed]",
            "text/plain": [
              "<Figure size 432x288 with 1 Axes>"
            ]
          },
          "metadata": {
            "tags": []
          }
        }
      ]
    },
    {
      "cell_type": "code",
      "metadata": {
        "pycharm": {
          "name": "#%%\n"
        },
        "id": "GZYHiMla9pt8",
        "colab_type": "code",
        "colab": {}
      },
      "source": [
        "# TODO: проведите эксперимент и оцените долю ошибок критерия"
      ],
      "execution_count": 0,
      "outputs": []
    },
    {
      "cell_type": "markdown",
      "metadata": {
        "collapsed": false,
        "id": "iGsiheOd9ptf",
        "colab_type": "text"
      },
      "source": [
        "## Прогноз необходимого числа набюдений эксперимента"
      ]
    },
    {
      "cell_type": "code",
      "metadata": {
        "pycharm": {
          "name": "#%%\n"
        },
        "id": "Ggs0EP_v9ptj",
        "colab_type": "code",
        "colab": {}
      },
      "source": [
        "# TODO: Определить необходимое число наблюдений \n",
        "#       в эксперименте для получения значимого результата:\n",
        "# Текущий уровень конверсии: 1%\n",
        "# Минимальный уровень изменений: +0.1%\n",
        "# Уровень значимости: 95%\n",
        "# Требуемая мощность критерия: 90%"
      ],
      "execution_count": 0,
      "outputs": []
    },
    {
      "cell_type": "markdown",
      "metadata": {
        "id": "J4pQmW4uf6sK",
        "colab_type": "text"
      },
      "source": [
        "Проверить решение можно по ссылке: https://abtestguide.com/abtestsize/"
      ]
    },
    {
      "cell_type": "markdown",
      "metadata": {
        "collapsed": false,
        "id": "PIQaI90b9psM",
        "colab_type": "text"
      },
      "source": [
        "## Проведение эксперимента (A/B тест)"
      ]
    },
    {
      "cell_type": "markdown",
      "metadata": {
        "collapsed": false,
        "id": "g_PkJNCN9psR",
        "colab_type": "text"
      },
      "source": [
        "### Сгенерируем семплы"
      ]
    },
    {
      "cell_type": "code",
      "metadata": {
        "pycharm": {
          "name": "#%%\n"
        },
        "id": "SLeUthWP9psS",
        "colab_type": "code",
        "colab": {}
      },
      "source": [
        "P1 = 0.1\n",
        "P2 = 0.11\n",
        "N1 = 100\n",
        "N2 = 100"
      ],
      "execution_count": 0,
      "outputs": []
    },
    {
      "cell_type": "code",
      "metadata": {
        "pycharm": {
          "name": "#%%\n"
        },
        "id": "D7abdC_L9psV",
        "colab_type": "code",
        "colab": {}
      },
      "source": [
        "sample1 = # Ваш код здесь\n",
        "sample2 = # Ваш код здесь"
      ],
      "execution_count": 0,
      "outputs": []
    },
    {
      "cell_type": "code",
      "metadata": {
        "pycharm": {
          "name": "#%%\n"
        },
        "id": "feDk-AIk9psY",
        "colab_type": "code",
        "outputId": "27a3f70f-be72-43ed-e27e-384f86588245",
        "colab": {
          "base_uri": "https://localhost:8080/",
          "height": 68
        }
      },
      "source": [
        "mean1 = # Ваш код здесь\n",
        "mean2 = # Ваш код здесь\n",
        "diff = # Ваш код здесь\n",
        "print('mean1: %s' % mean1)\n",
        "print('mean2: %s' % mean2)\n",
        "print('mean1 - mean2: %s' % diff)"
      ],
      "execution_count": 0,
      "outputs": [
        {
          "output_type": "stream",
          "text": [
            "mean1: 0.09\n",
            "mean2: 0.14\n",
            "mean1 - mean2: -0.05000000000000002\n"
          ],
          "name": "stdout"
        }
      ]
    },
    {
      "cell_type": "markdown",
      "metadata": {
        "collapsed": false,
        "id": "QOSzUabH9psb",
        "colab_type": "text"
      },
      "source": [
        "### Оценим выборочное (pooled) среднее и дисперсию"
      ]
    },
    {
      "cell_type": "code",
      "metadata": {
        "pycharm": {
          "name": "#%%\n"
        },
        "id": "R2okMOSF9psb",
        "colab_type": "code",
        "colab": {}
      },
      "source": [
        "P_pool = # Ваш код здесь\n",
        "std_pool = # Ваш код здесь"
      ],
      "execution_count": 0,
      "outputs": []
    },
    {
      "cell_type": "code",
      "metadata": {
        "pycharm": {
          "name": "#%%\n"
        },
        "id": "w_6mSSO99psg",
        "colab_type": "code",
        "outputId": "4c9034fc-be93-43cc-a335-a81d4c1605e8",
        "colab": {
          "base_uri": "https://localhost:8080/",
          "height": 34
        }
      },
      "source": [
        "confidence = 0.975\n",
        "z = # Ваш код здесь\n",
        "margin = # Ваш код здесь\n",
        "print('z: %s' % z)"
      ],
      "execution_count": 0,
      "outputs": [
        {
          "output_type": "stream",
          "text": [
            "z: 1.959963984540054\n"
          ],
          "name": "stdout"
        }
      ]
    },
    {
      "cell_type": "markdown",
      "metadata": {
        "collapsed": false,
        "id": "YdRXEQdE9psj",
        "colab_type": "text"
      },
      "source": [
        "### Случайно ли различие в средних?"
      ]
    },
    {
      "cell_type": "code",
      "metadata": {
        "pycharm": {
          "name": "#%%\n"
        },
        "id": "8peavugd9psk",
        "colab_type": "code",
        "outputId": "5caaecab-91a1-49b3-d5e5-bdb43245bb96",
        "colab": {
          "base_uri": "https://localhost:8080/",
          "height": 68
        }
      },
      "source": [
        "print('margin: %s' % margin)\n",
        "print('diff: %s' % diff)\n",
        "print('Are they different (diff > margin)? -> %s' % (abs(diff) > margin))"
      ],
      "execution_count": 0,
      "outputs": [
        {
          "output_type": "stream",
          "text": [
            "margin: 0.04421337306042961\n",
            "diff: -0.05000000000000002\n",
            "Are they different (diff > margin)? -> True\n"
          ],
          "name": "stdout"
        }
      ]
    },
    {
      "cell_type": "code",
      "metadata": {
        "pycharm": {
          "name": "#%%\n"
        },
        "id": "imfSh6Ej9psn",
        "colab_type": "code",
        "colab": {}
      },
      "source": [
        "# TODO: при каком размере семплов разлиие в 1% будет значимым?"
      ],
      "execution_count": 0,
      "outputs": []
    }
  ]
}